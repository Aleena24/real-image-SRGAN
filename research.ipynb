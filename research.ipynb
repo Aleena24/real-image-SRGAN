{
  "nbformat": 4,
  "nbformat_minor": 0,
  "metadata": {
    "colab": {
      "provenance": [],
      "mount_file_id": "1tMn2-oLhT8SoxKW4ic0p_aKC_Mt83DKY",
      "authorship_tag": "ABX9TyP5sAYFSPfOl3AlWvMmFZU1",
      "include_colab_link": true
    },
    "kernelspec": {
      "name": "python3",
      "display_name": "Python 3"
    },
    "language_info": {
      "name": "python"
    }
  },
  "cells": [
    {
      "cell_type": "markdown",
      "metadata": {
        "id": "view-in-github",
        "colab_type": "text"
      },
      "source": [
        "<a href=\"https://colab.research.google.com/github/Aleena24/real-image-SRGAN/blob/main/research.ipynb\" target=\"_parent\"><img src=\"https://colab.research.google.com/assets/colab-badge.svg\" alt=\"Open In Colab\"/></a>"
      ]
    },
    {
      "cell_type": "markdown",
      "source": [
        "#Data loading"
      ],
      "metadata": {
        "id": "2_WntIctiMFD"
      }
    },
    {
      "cell_type": "code",
      "source": [
        "import os\n",
        "import numpy as np\n",
        "import cv2\n",
        "\n",
        "# Define the path to your dataset directory\n",
        "dataset_dir = '/content/drive/MyDrive/research_dataset/BSD100'"
      ],
      "metadata": {
        "id": "9-LcG8k8RZ7B"
      },
      "execution_count": 34,
      "outputs": []
    },
    {
      "cell_type": "markdown",
      "source": [
        "#Image Preprocessing"
      ],
      "metadata": {
        "id": "T_ZzYTMKhNYK"
      }
    },
    {
      "cell_type": "code",
      "source": [
        "# Define the image size\n",
        "image_size = (256, 256)\n",
        "\n",
        "# Function to load and preprocess images from the dataset directory\n",
        "def load_and_preprocess_dataset(dataset_dir, image_size):\n",
        "    X_train = []\n",
        "    y_train = []\n",
        "\n",
        "    for filename in os.listdir(dataset_dir):\n",
        "        if filename.endswith('.jpg') or filename.endswith('.png'):\n",
        "            img = cv2.imread(os.path.join(dataset_dir, filename))\n",
        "            img = cv2.cvtColor(img, cv2.COLOR_BGR2RGB)  # Convert BGR to RGB\n",
        "            img = cv2.resize(img, image_size)  # Resize image to desired size\n",
        "\n",
        "            # Assuming filename contains information about the label or target\n",
        "            # Extract label or target from the filename and preprocess if needed\n",
        "            label = extract_label_from_filename(filename)\n",
        "\n",
        "            X_train.append(img)\n",
        "            y_train.append(label)\n",
        "\n",
        "    X_train = np.array(X_train)\n",
        "    y_train = np.array(y_train)\n",
        "\n",
        "    return X_train, y_train\n",
        "\n",
        "# Function to extract label or target from filename (modify as per your dataset)\n",
        "def extract_label_from_filename(filename):\n",
        "    # Implement logic to extract label from filename\n",
        "    # For example, split filename and extract label from the filename\n",
        "    label = filename.split('_')[0]  # Example: if filename is 'cat_001.jpg', label will be 'cat'\n",
        "    return label\n",
        "\n",
        "# Load and preprocess the dataset\n",
        "X_train, y_train = load_and_preprocess_dataset(dataset_dir, image_size)\n",
        "\n",
        "# Optionally, you can normalize pixel values to range [0, 1]\n",
        "X_train = X_train.astype('float32') / 255.0\n"
      ],
      "metadata": {
        "id": "5Q4esBdhTkHo"
      },
      "execution_count": 35,
      "outputs": []
    },
    {
      "cell_type": "markdown",
      "source": [
        "# Generator Network"
      ],
      "metadata": {
        "id": "69FLUwdBiQFi"
      }
    },
    {
      "cell_type": "code",
      "source": [
        "import tensorflow as tf\n",
        "from tensorflow.keras import layers, Model\n",
        "\n",
        "def build_generator(input_shape=(64, 64, 3)):\n",
        "    inputs = tf.keras.Input(shape=input_shape)\n",
        "\n",
        "    # Encoder\n",
        "    x = layers.Conv2D(64, kernel_size=9, padding='same', activation='relu')(inputs)\n",
        "    x = layers.Conv2D(64, kernel_size=3, padding='same', activation='relu')(x)\n",
        "\n",
        "    # Residual blocks\n",
        "    for _ in range(16):\n",
        "        residual = x\n",
        "\n",
        "        x = layers.Conv2D(64, kernel_size=3, padding='same', activation='relu')(x)\n",
        "        x = layers.Conv2D(64, kernel_size=3, padding='same')(x)\n",
        "        x = layers.BatchNormalization()(x)\n",
        "\n",
        "        x = layers.add([x, residual])\n",
        "\n",
        "    # Decoder\n",
        "    x = layers.Conv2D(64, kernel_size=3, padding='same', activation='relu')(x)\n",
        "    x = layers.Conv2DTranspose(64, kernel_size=3, strides=2, padding='same', activation='relu')(x)\n",
        "    outputs = layers.Conv2D(3, kernel_size=9, padding='same', activation='tanh')(x)\n",
        "\n",
        "    generator = Model(inputs, outputs, name='generator')\n",
        "    return generator\n",
        "\n",
        "# Test the generator model\n",
        "generator = build_generator()\n",
        "generator.summary()\n"
      ],
      "metadata": {
        "colab": {
          "base_uri": "https://localhost:8080/"
        },
        "id": "U-k8dwLvRt2-",
        "outputId": "bde3e306-5235-443d-944c-09594132b72f"
      },
      "execution_count": 36,
      "outputs": [
        {
          "output_type": "stream",
          "name": "stdout",
          "text": [
            "Model: \"generator\"\n",
            "__________________________________________________________________________________________________\n",
            " Layer (type)                Output Shape                 Param #   Connected to                  \n",
            "==================================================================================================\n",
            " input_20 (InputLayer)       [(None, 64, 64, 3)]          0         []                            \n",
            "                                                                                                  \n",
            " conv2d_102 (Conv2D)         (None, 64, 64, 64)           15616     ['input_20[0][0]']            \n",
            "                                                                                                  \n",
            " conv2d_103 (Conv2D)         (None, 64, 64, 64)           36928     ['conv2d_102[0][0]']          \n",
            "                                                                                                  \n",
            " conv2d_104 (Conv2D)         (None, 64, 64, 64)           36928     ['conv2d_103[0][0]']          \n",
            "                                                                                                  \n",
            " conv2d_105 (Conv2D)         (None, 64, 64, 64)           36928     ['conv2d_104[0][0]']          \n",
            "                                                                                                  \n",
            " batch_normalization_58 (Ba  (None, 64, 64, 64)           256       ['conv2d_105[0][0]']          \n",
            " tchNormalization)                                                                                \n",
            "                                                                                                  \n",
            " add_38 (Add)                (None, 64, 64, 64)           0         ['batch_normalization_58[0][0]\n",
            "                                                                    ',                            \n",
            "                                                                     'conv2d_103[0][0]']          \n",
            "                                                                                                  \n",
            " conv2d_106 (Conv2D)         (None, 64, 64, 64)           36928     ['add_38[0][0]']              \n",
            "                                                                                                  \n",
            " conv2d_107 (Conv2D)         (None, 64, 64, 64)           36928     ['conv2d_106[0][0]']          \n",
            "                                                                                                  \n",
            " batch_normalization_59 (Ba  (None, 64, 64, 64)           256       ['conv2d_107[0][0]']          \n",
            " tchNormalization)                                                                                \n",
            "                                                                                                  \n",
            " add_39 (Add)                (None, 64, 64, 64)           0         ['batch_normalization_59[0][0]\n",
            "                                                                    ',                            \n",
            "                                                                     'add_38[0][0]']              \n",
            "                                                                                                  \n",
            " conv2d_108 (Conv2D)         (None, 64, 64, 64)           36928     ['add_39[0][0]']              \n",
            "                                                                                                  \n",
            " conv2d_109 (Conv2D)         (None, 64, 64, 64)           36928     ['conv2d_108[0][0]']          \n",
            "                                                                                                  \n",
            " batch_normalization_60 (Ba  (None, 64, 64, 64)           256       ['conv2d_109[0][0]']          \n",
            " tchNormalization)                                                                                \n",
            "                                                                                                  \n",
            " add_40 (Add)                (None, 64, 64, 64)           0         ['batch_normalization_60[0][0]\n",
            "                                                                    ',                            \n",
            "                                                                     'add_39[0][0]']              \n",
            "                                                                                                  \n",
            " conv2d_110 (Conv2D)         (None, 64, 64, 64)           36928     ['add_40[0][0]']              \n",
            "                                                                                                  \n",
            " conv2d_111 (Conv2D)         (None, 64, 64, 64)           36928     ['conv2d_110[0][0]']          \n",
            "                                                                                                  \n",
            " batch_normalization_61 (Ba  (None, 64, 64, 64)           256       ['conv2d_111[0][0]']          \n",
            " tchNormalization)                                                                                \n",
            "                                                                                                  \n",
            " add_41 (Add)                (None, 64, 64, 64)           0         ['batch_normalization_61[0][0]\n",
            "                                                                    ',                            \n",
            "                                                                     'add_40[0][0]']              \n",
            "                                                                                                  \n",
            " conv2d_112 (Conv2D)         (None, 64, 64, 64)           36928     ['add_41[0][0]']              \n",
            "                                                                                                  \n",
            " conv2d_113 (Conv2D)         (None, 64, 64, 64)           36928     ['conv2d_112[0][0]']          \n",
            "                                                                                                  \n",
            " batch_normalization_62 (Ba  (None, 64, 64, 64)           256       ['conv2d_113[0][0]']          \n",
            " tchNormalization)                                                                                \n",
            "                                                                                                  \n",
            " add_42 (Add)                (None, 64, 64, 64)           0         ['batch_normalization_62[0][0]\n",
            "                                                                    ',                            \n",
            "                                                                     'add_41[0][0]']              \n",
            "                                                                                                  \n",
            " conv2d_114 (Conv2D)         (None, 64, 64, 64)           36928     ['add_42[0][0]']              \n",
            "                                                                                                  \n",
            " conv2d_115 (Conv2D)         (None, 64, 64, 64)           36928     ['conv2d_114[0][0]']          \n",
            "                                                                                                  \n",
            " batch_normalization_63 (Ba  (None, 64, 64, 64)           256       ['conv2d_115[0][0]']          \n",
            " tchNormalization)                                                                                \n",
            "                                                                                                  \n",
            " add_43 (Add)                (None, 64, 64, 64)           0         ['batch_normalization_63[0][0]\n",
            "                                                                    ',                            \n",
            "                                                                     'add_42[0][0]']              \n",
            "                                                                                                  \n",
            " conv2d_116 (Conv2D)         (None, 64, 64, 64)           36928     ['add_43[0][0]']              \n",
            "                                                                                                  \n",
            " conv2d_117 (Conv2D)         (None, 64, 64, 64)           36928     ['conv2d_116[0][0]']          \n",
            "                                                                                                  \n",
            " batch_normalization_64 (Ba  (None, 64, 64, 64)           256       ['conv2d_117[0][0]']          \n",
            " tchNormalization)                                                                                \n",
            "                                                                                                  \n",
            " add_44 (Add)                (None, 64, 64, 64)           0         ['batch_normalization_64[0][0]\n",
            "                                                                    ',                            \n",
            "                                                                     'add_43[0][0]']              \n",
            "                                                                                                  \n",
            " conv2d_118 (Conv2D)         (None, 64, 64, 64)           36928     ['add_44[0][0]']              \n",
            "                                                                                                  \n",
            " conv2d_119 (Conv2D)         (None, 64, 64, 64)           36928     ['conv2d_118[0][0]']          \n",
            "                                                                                                  \n",
            " batch_normalization_65 (Ba  (None, 64, 64, 64)           256       ['conv2d_119[0][0]']          \n",
            " tchNormalization)                                                                                \n",
            "                                                                                                  \n",
            " add_45 (Add)                (None, 64, 64, 64)           0         ['batch_normalization_65[0][0]\n",
            "                                                                    ',                            \n",
            "                                                                     'add_44[0][0]']              \n",
            "                                                                                                  \n",
            " conv2d_120 (Conv2D)         (None, 64, 64, 64)           36928     ['add_45[0][0]']              \n",
            "                                                                                                  \n",
            " conv2d_121 (Conv2D)         (None, 64, 64, 64)           36928     ['conv2d_120[0][0]']          \n",
            "                                                                                                  \n",
            " batch_normalization_66 (Ba  (None, 64, 64, 64)           256       ['conv2d_121[0][0]']          \n",
            " tchNormalization)                                                                                \n",
            "                                                                                                  \n",
            " add_46 (Add)                (None, 64, 64, 64)           0         ['batch_normalization_66[0][0]\n",
            "                                                                    ',                            \n",
            "                                                                     'add_45[0][0]']              \n",
            "                                                                                                  \n",
            " conv2d_122 (Conv2D)         (None, 64, 64, 64)           36928     ['add_46[0][0]']              \n",
            "                                                                                                  \n",
            " conv2d_123 (Conv2D)         (None, 64, 64, 64)           36928     ['conv2d_122[0][0]']          \n",
            "                                                                                                  \n",
            " batch_normalization_67 (Ba  (None, 64, 64, 64)           256       ['conv2d_123[0][0]']          \n",
            " tchNormalization)                                                                                \n",
            "                                                                                                  \n",
            " add_47 (Add)                (None, 64, 64, 64)           0         ['batch_normalization_67[0][0]\n",
            "                                                                    ',                            \n",
            "                                                                     'add_46[0][0]']              \n",
            "                                                                                                  \n",
            " conv2d_124 (Conv2D)         (None, 64, 64, 64)           36928     ['add_47[0][0]']              \n",
            "                                                                                                  \n",
            " conv2d_125 (Conv2D)         (None, 64, 64, 64)           36928     ['conv2d_124[0][0]']          \n",
            "                                                                                                  \n",
            " batch_normalization_68 (Ba  (None, 64, 64, 64)           256       ['conv2d_125[0][0]']          \n",
            " tchNormalization)                                                                                \n",
            "                                                                                                  \n",
            " add_48 (Add)                (None, 64, 64, 64)           0         ['batch_normalization_68[0][0]\n",
            "                                                                    ',                            \n",
            "                                                                     'add_47[0][0]']              \n",
            "                                                                                                  \n",
            " conv2d_126 (Conv2D)         (None, 64, 64, 64)           36928     ['add_48[0][0]']              \n",
            "                                                                                                  \n",
            " conv2d_127 (Conv2D)         (None, 64, 64, 64)           36928     ['conv2d_126[0][0]']          \n",
            "                                                                                                  \n",
            " batch_normalization_69 (Ba  (None, 64, 64, 64)           256       ['conv2d_127[0][0]']          \n",
            " tchNormalization)                                                                                \n",
            "                                                                                                  \n",
            " add_49 (Add)                (None, 64, 64, 64)           0         ['batch_normalization_69[0][0]\n",
            "                                                                    ',                            \n",
            "                                                                     'add_48[0][0]']              \n",
            "                                                                                                  \n",
            " conv2d_128 (Conv2D)         (None, 64, 64, 64)           36928     ['add_49[0][0]']              \n",
            "                                                                                                  \n",
            " conv2d_129 (Conv2D)         (None, 64, 64, 64)           36928     ['conv2d_128[0][0]']          \n",
            "                                                                                                  \n",
            " batch_normalization_70 (Ba  (None, 64, 64, 64)           256       ['conv2d_129[0][0]']          \n",
            " tchNormalization)                                                                                \n",
            "                                                                                                  \n",
            " add_50 (Add)                (None, 64, 64, 64)           0         ['batch_normalization_70[0][0]\n",
            "                                                                    ',                            \n",
            "                                                                     'add_49[0][0]']              \n",
            "                                                                                                  \n",
            " conv2d_130 (Conv2D)         (None, 64, 64, 64)           36928     ['add_50[0][0]']              \n",
            "                                                                                                  \n",
            " conv2d_131 (Conv2D)         (None, 64, 64, 64)           36928     ['conv2d_130[0][0]']          \n",
            "                                                                                                  \n",
            " batch_normalization_71 (Ba  (None, 64, 64, 64)           256       ['conv2d_131[0][0]']          \n",
            " tchNormalization)                                                                                \n",
            "                                                                                                  \n",
            " add_51 (Add)                (None, 64, 64, 64)           0         ['batch_normalization_71[0][0]\n",
            "                                                                    ',                            \n",
            "                                                                     'add_50[0][0]']              \n",
            "                                                                                                  \n",
            " conv2d_132 (Conv2D)         (None, 64, 64, 64)           36928     ['add_51[0][0]']              \n",
            "                                                                                                  \n",
            " conv2d_133 (Conv2D)         (None, 64, 64, 64)           36928     ['conv2d_132[0][0]']          \n",
            "                                                                                                  \n",
            " batch_normalization_72 (Ba  (None, 64, 64, 64)           256       ['conv2d_133[0][0]']          \n",
            " tchNormalization)                                                                                \n",
            "                                                                                                  \n",
            " add_52 (Add)                (None, 64, 64, 64)           0         ['batch_normalization_72[0][0]\n",
            "                                                                    ',                            \n",
            "                                                                     'add_51[0][0]']              \n",
            "                                                                                                  \n",
            " conv2d_134 (Conv2D)         (None, 64, 64, 64)           36928     ['add_52[0][0]']              \n",
            "                                                                                                  \n",
            " conv2d_135 (Conv2D)         (None, 64, 64, 64)           36928     ['conv2d_134[0][0]']          \n",
            "                                                                                                  \n",
            " batch_normalization_73 (Ba  (None, 64, 64, 64)           256       ['conv2d_135[0][0]']          \n",
            " tchNormalization)                                                                                \n",
            "                                                                                                  \n",
            " add_53 (Add)                (None, 64, 64, 64)           0         ['batch_normalization_73[0][0]\n",
            "                                                                    ',                            \n",
            "                                                                     'add_52[0][0]']              \n",
            "                                                                                                  \n",
            " conv2d_136 (Conv2D)         (None, 64, 64, 64)           36928     ['add_53[0][0]']              \n",
            "                                                                                                  \n",
            " conv2d_transpose_7 (Conv2D  (None, 128, 128, 64)         36928     ['conv2d_136[0][0]']          \n",
            " Transpose)                                                                                       \n",
            "                                                                                                  \n",
            " conv2d_137 (Conv2D)         (None, 128, 128, 3)          15555     ['conv2d_transpose_7[0][0]']  \n",
            "                                                                                                  \n",
            "==================================================================================================\n",
            "Total params: 1327747 (5.06 MB)\n",
            "Trainable params: 1325699 (5.06 MB)\n",
            "Non-trainable params: 2048 (8.00 KB)\n",
            "__________________________________________________________________________________________________\n"
          ]
        }
      ]
    },
    {
      "cell_type": "markdown",
      "source": [
        "#Discriminator Network"
      ],
      "metadata": {
        "id": "9lUehIRXjIPV"
      }
    },
    {
      "cell_type": "code",
      "source": [
        "import tensorflow as tf\n",
        "from tensorflow.keras import layers, Model\n",
        "\n",
        "def build_discriminator(input_shape=(256, 256, 3)):\n",
        "    inputs = tf.keras.Input(shape=input_shape)\n",
        "\n",
        "    # Convolutional layers\n",
        "    x = layers.Conv2D(64, (3, 3), strides=(2, 2), padding='same')(inputs)\n",
        "    x = layers.LeakyReLU(alpha=0.2)(x)\n",
        "    x = layers.Dropout(0.25)(x)\n",
        "\n",
        "    x = layers.Conv2D(128, (3, 3), strides=(2, 2), padding='same')(x)\n",
        "    x = layers.BatchNormalization()(x)\n",
        "    x = layers.LeakyReLU(alpha=0.2)(x)\n",
        "    x = layers.Dropout(0.25)(x)\n",
        "\n",
        "    x = layers.Conv2D(256, (3, 3), strides=(2, 2), padding='same')(x)\n",
        "    x = layers.BatchNormalization()(x)\n",
        "    x = layers.LeakyReLU(alpha=0.2)(x)\n",
        "    x = layers.Dropout(0.25)(x)\n",
        "\n",
        "    # Flatten layer\n",
        "    x = layers.Flatten()(x)\n",
        "\n",
        "    # Output layer\n",
        "    outputs = layers.Dense(1, activation='sigmoid')(x)\n",
        "\n",
        "    discriminator = Model(inputs, outputs, name='discriminator')\n",
        "    return discriminator\n",
        "\n",
        "# Test the discriminator model\n",
        "discriminator = build_discriminator()\n",
        "discriminator.summary()\n"
      ],
      "metadata": {
        "colab": {
          "base_uri": "https://localhost:8080/"
        },
        "id": "7EXDY1jqSIdA",
        "outputId": "ca6109ca-6e5f-43a8-a015-b585c8f1311d"
      },
      "execution_count": 37,
      "outputs": [
        {
          "output_type": "stream",
          "name": "stdout",
          "text": [
            "Model: \"discriminator\"\n",
            "_________________________________________________________________\n",
            " Layer (type)                Output Shape              Param #   \n",
            "=================================================================\n",
            " input_21 (InputLayer)       [(None, 256, 256, 3)]     0         \n",
            "                                                                 \n",
            " conv2d_138 (Conv2D)         (None, 128, 128, 64)      1792      \n",
            "                                                                 \n",
            " leaky_re_lu_12 (LeakyReLU)  (None, 128, 128, 64)      0         \n",
            "                                                                 \n",
            " dropout_12 (Dropout)        (None, 128, 128, 64)      0         \n",
            "                                                                 \n",
            " conv2d_139 (Conv2D)         (None, 64, 64, 128)       73856     \n",
            "                                                                 \n",
            " batch_normalization_74 (Ba  (None, 64, 64, 128)       512       \n",
            " tchNormalization)                                               \n",
            "                                                                 \n",
            " leaky_re_lu_13 (LeakyReLU)  (None, 64, 64, 128)       0         \n",
            "                                                                 \n",
            " dropout_13 (Dropout)        (None, 64, 64, 128)       0         \n",
            "                                                                 \n",
            " conv2d_140 (Conv2D)         (None, 32, 32, 256)       295168    \n",
            "                                                                 \n",
            " batch_normalization_75 (Ba  (None, 32, 32, 256)       1024      \n",
            " tchNormalization)                                               \n",
            "                                                                 \n",
            " leaky_re_lu_14 (LeakyReLU)  (None, 32, 32, 256)       0         \n",
            "                                                                 \n",
            " dropout_14 (Dropout)        (None, 32, 32, 256)       0         \n",
            "                                                                 \n",
            " flatten_4 (Flatten)         (None, 262144)            0         \n",
            "                                                                 \n",
            " dense_4 (Dense)             (None, 1)                 262145    \n",
            "                                                                 \n",
            "=================================================================\n",
            "Total params: 634497 (2.42 MB)\n",
            "Trainable params: 633729 (2.42 MB)\n",
            "Non-trainable params: 768 (3.00 KB)\n",
            "_________________________________________________________________\n"
          ]
        }
      ]
    },
    {
      "cell_type": "markdown",
      "source": [
        "#Loss function"
      ],
      "metadata": {
        "id": "UMy_vY-kkFnc"
      }
    },
    {
      "cell_type": "markdown",
      "source": [
        "# generator loss"
      ],
      "metadata": {
        "id": "5FBIoy2FTsHo"
      }
    },
    {
      "cell_type": "code",
      "source": [
        "import tensorflow as tf\n",
        "\n",
        "def generator_loss(fake_output, reconstructed_output):\n",
        "    # Calculate mean absolute error between the generated image and the target image\n",
        "    return tf.reduce_mean(tf.abs(fake_output - reconstructed_output))\n"
      ],
      "metadata": {
        "id": "ecRqrtQ7SP4O"
      },
      "execution_count": 38,
      "outputs": []
    },
    {
      "cell_type": "markdown",
      "source": [
        "# discriminator loss"
      ],
      "metadata": {
        "id": "qRZ6Fb2LTvM1"
      }
    },
    {
      "cell_type": "code",
      "source": [
        "import tensorflow as tf\n",
        "\n",
        "def discriminator_loss(real_output, fake_output):\n",
        "    # Calculate the binary cross-entropy loss for the discriminator\n",
        "    real_loss = tf.reduce_mean(tf.nn.sigmoid_cross_entropy_with_logits(labels=tf.ones_like(real_output), logits=real_output))\n",
        "    fake_loss = tf.reduce_mean(tf.nn.sigmoid_cross_entropy_with_logits(labels=tf.zeros_like(fake_output), logits=fake_output))\n",
        "    total_loss = real_loss + fake_loss\n",
        "    return total_loss\n"
      ],
      "metadata": {
        "id": "axHZUrrOSWO_"
      },
      "execution_count": 39,
      "outputs": []
    },
    {
      "cell_type": "markdown",
      "source": [
        "# Initialization"
      ],
      "metadata": {
        "id": "x5Iu9VpDT1aC"
      }
    },
    {
      "cell_type": "code",
      "source": [
        "# Initialize the generator\n",
        "generator = build_generator()\n",
        "\n",
        "# Initialize the discriminator\n",
        "discriminator = build_discriminator()\n"
      ],
      "metadata": {
        "id": "60eny61bSbln"
      },
      "execution_count": 40,
      "outputs": []
    },
    {
      "cell_type": "markdown",
      "source": [
        "# optimizer"
      ],
      "metadata": {
        "id": "5hWYzg-PT7KC"
      }
    },
    {
      "cell_type": "code",
      "source": [
        "# Define the optimizer\n",
        "optimizer = tf.keras.optimizers.Adam(learning_rate=0.0002, beta_1=0.5)"
      ],
      "metadata": {
        "id": "bhD2bXR8T9HQ"
      },
      "execution_count": 41,
      "outputs": []
    },
    {
      "cell_type": "markdown",
      "source": [
        "#Compilation"
      ],
      "metadata": {
        "id": "V3HG71HYt8DU"
      }
    },
    {
      "cell_type": "code",
      "source": [
        "# Compile the models\n",
        "generator.compile(optimizer=optimizer, loss=generator_loss)\n",
        "discriminator.compile(optimizer=optimizer, loss=discriminator_loss)\n",
        "\n",
        "# Combined model (GAN)\n",
        "input_lr = tf.keras.Input(shape=(64, 64, 3))  # Use the same shape as the output of the generator\n",
        "input_hr = tf.keras.Input(shape=(256, 256, 3))\n",
        "\n",
        "sr_image = generator(input_lr)\n",
        "discriminator.trainable = False\n",
        "validity = discriminator(sr_image)\n",
        "gan = Model(inputs=[input_lr, input_hr], outputs=[validity, sr_image])\n",
        "gan.compile(optimizer=optimizer, loss=[discriminator_loss, generator_loss])"
      ],
      "metadata": {
        "colab": {
          "base_uri": "https://localhost:8080/",
          "height": 477
        },
        "id": "JcUn2RB2UD1K",
        "outputId": "f1f4aa6b-3d72-4b1d-bd50-346a217ddde9"
      },
      "execution_count": 42,
      "outputs": [
        {
          "output_type": "error",
          "ename": "ValueError",
          "evalue": "Exception encountered when calling layer \"discriminator\" (type Functional).\n\nInput 0 of layer \"dense_5\" is incompatible with the layer: expected axis -1 of input shape to have value 262144, but received input with shape (None, 65536)\n\nCall arguments received by layer \"discriminator\" (type Functional):\n  • inputs=tf.Tensor(shape=(None, 128, 128, 3), dtype=float32)\n  • training=None\n  • mask=None",
          "traceback": [
            "\u001b[0;31m---------------------------------------------------------------------------\u001b[0m",
            "\u001b[0;31mValueError\u001b[0m                                Traceback (most recent call last)",
            "\u001b[0;32m<ipython-input-42-98854af26149>\u001b[0m in \u001b[0;36m<cell line: 11>\u001b[0;34m()\u001b[0m\n\u001b[1;32m      9\u001b[0m \u001b[0msr_image\u001b[0m \u001b[0;34m=\u001b[0m \u001b[0mgenerator\u001b[0m\u001b[0;34m(\u001b[0m\u001b[0minput_lr\u001b[0m\u001b[0;34m)\u001b[0m\u001b[0;34m\u001b[0m\u001b[0;34m\u001b[0m\u001b[0m\n\u001b[1;32m     10\u001b[0m \u001b[0mdiscriminator\u001b[0m\u001b[0;34m.\u001b[0m\u001b[0mtrainable\u001b[0m \u001b[0;34m=\u001b[0m \u001b[0;32mFalse\u001b[0m\u001b[0;34m\u001b[0m\u001b[0;34m\u001b[0m\u001b[0m\n\u001b[0;32m---> 11\u001b[0;31m \u001b[0mvalidity\u001b[0m \u001b[0;34m=\u001b[0m \u001b[0mdiscriminator\u001b[0m\u001b[0;34m(\u001b[0m\u001b[0msr_image\u001b[0m\u001b[0;34m)\u001b[0m\u001b[0;34m\u001b[0m\u001b[0;34m\u001b[0m\u001b[0m\n\u001b[0m\u001b[1;32m     12\u001b[0m \u001b[0mgan\u001b[0m \u001b[0;34m=\u001b[0m \u001b[0mModel\u001b[0m\u001b[0;34m(\u001b[0m\u001b[0minputs\u001b[0m\u001b[0;34m=\u001b[0m\u001b[0;34m[\u001b[0m\u001b[0minput_lr\u001b[0m\u001b[0;34m,\u001b[0m \u001b[0minput_hr\u001b[0m\u001b[0;34m]\u001b[0m\u001b[0;34m,\u001b[0m \u001b[0moutputs\u001b[0m\u001b[0;34m=\u001b[0m\u001b[0;34m[\u001b[0m\u001b[0mvalidity\u001b[0m\u001b[0;34m,\u001b[0m \u001b[0msr_image\u001b[0m\u001b[0;34m]\u001b[0m\u001b[0;34m)\u001b[0m\u001b[0;34m\u001b[0m\u001b[0;34m\u001b[0m\u001b[0m\n\u001b[1;32m     13\u001b[0m \u001b[0mgan\u001b[0m\u001b[0;34m.\u001b[0m\u001b[0mcompile\u001b[0m\u001b[0;34m(\u001b[0m\u001b[0moptimizer\u001b[0m\u001b[0;34m=\u001b[0m\u001b[0moptimizer\u001b[0m\u001b[0;34m,\u001b[0m \u001b[0mloss\u001b[0m\u001b[0;34m=\u001b[0m\u001b[0;34m[\u001b[0m\u001b[0mdiscriminator_loss\u001b[0m\u001b[0;34m,\u001b[0m \u001b[0mgenerator_loss\u001b[0m\u001b[0;34m]\u001b[0m\u001b[0;34m)\u001b[0m\u001b[0;34m\u001b[0m\u001b[0;34m\u001b[0m\u001b[0m\n",
            "\u001b[0;32m/usr/local/lib/python3.10/dist-packages/keras/src/utils/traceback_utils.py\u001b[0m in \u001b[0;36merror_handler\u001b[0;34m(*args, **kwargs)\u001b[0m\n\u001b[1;32m     68\u001b[0m             \u001b[0;31m# To get the full stack trace, call:\u001b[0m\u001b[0;34m\u001b[0m\u001b[0;34m\u001b[0m\u001b[0m\n\u001b[1;32m     69\u001b[0m             \u001b[0;31m# `tf.debugging.disable_traceback_filtering()`\u001b[0m\u001b[0;34m\u001b[0m\u001b[0;34m\u001b[0m\u001b[0m\n\u001b[0;32m---> 70\u001b[0;31m             \u001b[0;32mraise\u001b[0m \u001b[0me\u001b[0m\u001b[0;34m.\u001b[0m\u001b[0mwith_traceback\u001b[0m\u001b[0;34m(\u001b[0m\u001b[0mfiltered_tb\u001b[0m\u001b[0;34m)\u001b[0m \u001b[0;32mfrom\u001b[0m \u001b[0;32mNone\u001b[0m\u001b[0;34m\u001b[0m\u001b[0;34m\u001b[0m\u001b[0m\n\u001b[0m\u001b[1;32m     71\u001b[0m         \u001b[0;32mfinally\u001b[0m\u001b[0;34m:\u001b[0m\u001b[0;34m\u001b[0m\u001b[0;34m\u001b[0m\u001b[0m\n\u001b[1;32m     72\u001b[0m             \u001b[0;32mdel\u001b[0m \u001b[0mfiltered_tb\u001b[0m\u001b[0;34m\u001b[0m\u001b[0;34m\u001b[0m\u001b[0m\n",
            "\u001b[0;32m/usr/local/lib/python3.10/dist-packages/keras/src/engine/input_spec.py\u001b[0m in \u001b[0;36massert_input_compatibility\u001b[0;34m(input_spec, inputs, layer_name)\u001b[0m\n\u001b[1;32m    278\u001b[0m                     \u001b[0;32mNone\u001b[0m\u001b[0;34m,\u001b[0m\u001b[0;34m\u001b[0m\u001b[0;34m\u001b[0m\u001b[0m\n\u001b[1;32m    279\u001b[0m                 }:\n\u001b[0;32m--> 280\u001b[0;31m                     raise ValueError(\n\u001b[0m\u001b[1;32m    281\u001b[0m                         \u001b[0;34mf'Input {input_index} of layer \"{layer_name}\" is '\u001b[0m\u001b[0;34m\u001b[0m\u001b[0;34m\u001b[0m\u001b[0m\n\u001b[1;32m    282\u001b[0m                         \u001b[0;34mf\"incompatible with the layer: expected axis {axis} \"\u001b[0m\u001b[0;34m\u001b[0m\u001b[0;34m\u001b[0m\u001b[0m\n",
            "\u001b[0;31mValueError\u001b[0m: Exception encountered when calling layer \"discriminator\" (type Functional).\n\nInput 0 of layer \"dense_5\" is incompatible with the layer: expected axis -1 of input shape to have value 262144, but received input with shape (None, 65536)\n\nCall arguments received by layer \"discriminator\" (type Functional):\n  • inputs=tf.Tensor(shape=(None, 128, 128, 3), dtype=float32)\n  • training=None\n  • mask=None"
          ]
        }
      ]
    },
    {
      "cell_type": "markdown",
      "source": [
        "# Training"
      ],
      "metadata": {
        "id": "5R0nTLk2UFbj"
      }
    },
    {
      "cell_type": "code",
      "source": [
        "# Train the GAN\n",
        "epochs = 100\n",
        "batch_size = 16\n",
        "\n",
        "for epoch in range(epochs):\n",
        "    for i in range(len(X_train) // batch_size):\n",
        "        idx = np.random.randint(0, len(X_train), batch_size)\n",
        "        real_images = y_train[idx]\n",
        "        low_res_images = X_train[idx]\n",
        "\n",
        "        fake_images = generator.predict(low_res_images)\n",
        "\n",
        "        valid = np.ones((batch_size, 1))\n",
        "        fake = np.zeros((batch_size, 1))\n",
        "\n",
        "        d_loss_real = discriminator.train_on_batch(real_images, valid)\n",
        "        d_loss_fake = discriminator.train_on_batch(fake_images, fake)\n",
        "        d_loss = 0.5 * np.add(d_loss_real, d_loss_fake)\n",
        "\n",
        "        g_loss = gan.train_on_batch([low_res_images, real_images], [valid, real_images])\n",
        "\n",
        "        print(f\"Epoch: {epoch}, Step: {i}/{len(X_train) // batch_size}, D Loss: {d_loss}, G Loss: {g_loss}\")\n",
        "\n",
        "super_resolved_images = generator.predict(X_test)\n"
      ],
      "metadata": {
        "id": "YILtSDC7RFUl"
      },
      "execution_count": null,
      "outputs": []
    }
  ]
}